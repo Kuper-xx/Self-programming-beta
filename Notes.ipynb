{
 "cells": [
  {
   "cell_type": "markdown",
   "id": "6da0b54f-9372-4313-96e9-3d6e3908d513",
   "metadata": {},
   "source": [
    "## Auto-Programming"
   ]
  },
  {
   "cell_type": "markdown",
   "id": "58a8a460-c6b6-4b5b-a49c-e0e2ebf6542f",
   "metadata": {},
   "source": [
    "<div style=\"text-align:center\">\n",
    "    <img src=\"auto-programming1.png\" height=400 width=250>\n",
    "</div>"
   ]
  },
  {
   "cell_type": "code",
   "execution_count": 2,
   "id": "5b8ce7ce-1b91-41b2-bf42-a2e2e71bdb0a",
   "metadata": {
    "tags": []
   },
   "outputs": [],
   "source": [
    "# We need an auto-programming script so we can have the option to choose\n",
    "#whether we want our code to be alive and can decide for itself which \n",
    "#is the best way of write it's own code."
   ]
  },
  {
   "cell_type": "markdown",
   "id": "3f9d495d-0724-4d41-a8e3-e2ebf42feb7e",
   "metadata": {
    "tags": []
   },
   "source": [
    "#### PROBLEMS AND DOUBTS"
   ]
  },
  {
   "cell_type": "markdown",
   "id": "42271a4c-2321-4ab7-8baa-08bf9a815aff",
   "metadata": {
    "tags": []
   },
   "source": [
    "- What do we need? -> One-liner?, Script?, Alorythm? \n",
    "- How we change our own code with code?\n",
    "- How to make the code understand itself?\n",
    "- How to make not auto-destructive code?\n",
    "- How can we supervise it?"
   ]
  },
  {
   "cell_type": "markdown",
   "id": "2c8d5c7b-7943-437a-9b74-f233799c87e8",
   "metadata": {
    "tags": []
   },
   "source": [
    "#### Bayes' Theorem"
   ]
  },
  {
   "cell_type": "markdown",
   "id": "45f3657d-25a3-4061-9cd5-06773f02b182",
   "metadata": {},
   "source": [
    "This theorem provides a way to update the probability estimate of an event based on new evidence. "
   ]
  },
  {
   "cell_type": "markdown",
   "id": "f8f1dc50-ab55-427f-9c71-1dece5c932d4",
   "metadata": {
    "tags": []
   },
   "source": [
    "$$\n",
    "P(A|B) = \\frac{P(A) \\cdot P(B|A)}{P(B)}\n",
    "$$"
   ]
  },
  {
   "cell_type": "markdown",
   "id": "2f40b856-c9b5-4d7d-a4ba-c0593695aa3a",
   "metadata": {
    "tags": []
   },
   "source": [
    "I think this can be useful for the future usage of the idea with the IA models or maybe not but here it is..."
   ]
  },
  {
   "cell_type": "markdown",
   "id": "8ff94425-2ec6-489c-bedd-547efc41e61b",
   "metadata": {},
   "source": [
    "### First baby steps..."
   ]
  },
  {
   "cell_type": "markdown",
   "id": "fb084a91-64fa-4f74-acaf-cb3a1f52deaa",
   "metadata": {},
   "source": [
    "Self-modifying code involves programming techniques where the code actively alters its own instructions while it is running with Python:"
   ]
  },
  {
   "cell_type": "markdown",
   "id": "3d0de6c8-8c7f-46d0-b0a0-30902f9922b7",
   "metadata": {},
   "source": [
    "```Here we have dynamic code execution and generation rather than modifying existing compiled code at runtime ... I think this it's going to teach us the path```"
   ]
  },
  {
   "cell_type": "code",
   "execution_count": 13,
   "id": "ef44fd83-0014-4a25-b86a-2b9bac9751d8",
   "metadata": {
    "tags": []
   },
   "outputs": [
    {
     "name": "stdout",
     "output_type": "stream",
     "text": [
      "Result: 10\n"
     ]
    }
   ],
   "source": [
    "import random\n",
    "\n",
    "code = \"\"\"\n",
    "def dynamic_function(x):\n",
    "    return x * 2\n",
    "\"\"\"\n",
    "code2 = \"\"\"\n",
    "def dynamic_function(x):\n",
    "    return x / 2\n",
    "\"\"\"\n",
    "codes = [code, code2]\n",
    "#OPTION 1 exec_code = random.choice(codes)\n",
    "#OPTION 2\n",
    "index = int(random.random() * len(codes))\n",
    "exec_code = codes[index]\n",
    "# Dynamically define the function\n",
    "exec(exec_code)\n",
    "\n",
    "# Use the newly defined function\n",
    "result = dynamic_function(5)\n",
    "print(\"Result:\", result)"
   ]
  },
  {
   "cell_type": "markdown",
   "id": "36362d27-9d8e-43c5-a1f7-4aac8f30ee98",
   "metadata": {},
   "source": [
    "### interesting blogs and a video"
   ]
  },
  {
   "cell_type": "code",
   "execution_count": 15,
   "id": "7170c75a-e539-48ce-ab7f-0f95bb528844",
   "metadata": {
    "tags": []
   },
   "outputs": [],
   "source": [
    "#like that: \n",
    "#https://wiki.c2.com/?SelfModifyingCode\n",
    "#https://stackoverflow.com/questions/45175647/self-modifying-python-script\n",
    "#https://wiki.c2.com/?ConsideredHarmful\n",
    "#https://www.youtube.com/watch?v=SWU_DgjSwRU"
   ]
  },
  {
   "cell_type": "markdown",
   "id": "4a3e5a6e-1798-458e-9ee6-e25284134b34",
   "metadata": {},
   "source": [
    "Let's try modify the script file using ```__file__``` in python"
   ]
  },
  {
   "cell_type": "markdown",
   "id": "56cfee54-640b-48f8-bda8-ecdbbedaad0c",
   "metadata": {},
   "source": [
    "> I'm going to use a separate script \"self_modify.py\" to test the code"
   ]
  },
  {
   "cell_type": "markdown",
   "id": "c1d80a0e-af9d-4856-81d6-d58e4c59e18a",
   "metadata": {},
   "source": [
    "### The code:\n",
    "<pre>\n",
    "def updateCount():\n",
    "    print(\"Updating count...\")\n",
    "\n",
    "    # Open the file and read the code\n",
    "    fin = open(__file__, 'r')\n",
    "    code = fin.read()\n",
    "    fin.close()\n",
    "    # Split the code into lines\n",
    "    lines = code.split('\\n')\n",
    "\n",
    "    # Process the second line to increment the count\n",
    "    if lines[1].startswith('# Count: '):\n",
    "        try:\n",
    "            count = int(lines[1].split(': ')[1])\n",
    "            lines[1] = f'# Count: {count + 1}'\n",
    "            print(f\"New count is {count + 1}\")\n",
    "        except ValueError:\n",
    "            print(\"Error: The count on the second line is not a valid integer.\")\n",
    "            return\n",
    "    else:\n",
    "        print(\"Error: The second line is not formatted correctly.\")\n",
    "        return\n",
    "    # Reassemble the modified code\n",
    "    code = '\\n'.join(lines)\n",
    "    # Write the modified code back to the file\n",
    "    fout = open(__file__, 'w')\n",
    "    fout.write(code)\n",
    "    fout.close()\n",
    "# Call the function\n",
    "updateCount()\n",
    "</pre>"
   ]
  },
  {
   "cell_type": "markdown",
   "id": "63bf0f52-61b3-42f0-b4a2-e5163cce3ec7",
   "metadata": {},
   "source": [
    "### Better code:\n",
    "<pre>\n",
    "import random\n",
    "import time\n",
    "\n",
    "# Define the two versions of the function\n",
    "# START updateCountV1\n",
    "def updateCountV1():\n",
    "    print(\"Version 1 of the function is running.\")\n",
    "# END updateCountV1\n",
    "\n",
    "# START updateCountV2\n",
    "def updateCountV2():\n",
    "    print(\"Version 2 of the function is running.\")\n",
    "# END updateCountV2\n",
    "\n",
    "# Function to determine the currently active function\n",
    "def get_active_function(lines):\n",
    "    for line in lines:\n",
    "        if 'def updateCountV1():' in line and not line.strip().startswith('#'):\n",
    "            return updateCountV1\n",
    "        elif 'def updateCountV2():' in line and not line.strip().startswith('#'):\n",
    "            return updateCountV2\n",
    "    return None\n",
    "\n",
    "# Function to modify the script\n",
    "def modify_script(active_function):\n",
    "    with open(__file__, 'r') as file:\n",
    "        lines = file.readlines()\n",
    "\n",
    "    # Use random to select the new active function\n",
    "    new_active_function = random.choice([updateCountV1, updateCountV2])\n",
    "\n",
    "    in_function_block = False\n",
    "    process_lines = False\n",
    "    with open(__file__, 'w') as file:\n",
    "        for line in lines:\n",
    "            if 'START updateCountV1' in line or 'START updateCountV2' in line:\n",
    "                in_function_block = True\n",
    "                process_lines = new_active_function.__name__ in line\n",
    "                file.write('#' + line.lstrip('#'))  # Always comment the START line\n",
    "                continue\n",
    "\n",
    "            if 'END updateCountV1' in line or 'END updateCountV2' in line:\n",
    "                in_function_block = False\n",
    "                file.write('#' + line.lstrip('#'))  # Always comment the END line\n",
    "                continue\n",
    "\n",
    "            if in_function_block and process_lines:\n",
    "                file.write(line.lstrip('#'))  # Uncomment the lines for the active function\n",
    "            elif in_function_block:\n",
    "                file.write('#' + line.lstrip('#'))  # Comment the lines for the inactive function\n",
    "            else:\n",
    "                file.write(line)  # Write all other lines as is\n",
    "\n",
    "    return new_active_function\n",
    "\n",
    "# Read the current active function\n",
    "with open(__file__, 'r') as file:\n",
    "    current_lines = file.readlines()\n",
    "\n",
    "current_active_function = get_active_function(current_lines)\n",
    "if not current_active_function:\n",
    "    current_active_function = updateCountV1  # Default to V1 if none is active\n",
    "\n",
    "for i in range(2):\n",
    "    # Modify the script and update the active function\n",
    "    current_active_function = modify_script(current_active_function)\n",
    "\n",
    "    # Call the active function\n",
    "    current_active_function()\n",
    "    time.sleep(2)\n",
    "\n",
    "</pre>"
   ]
  }
 ],
 "metadata": {
  "kernelspec": {
   "display_name": "Python 3 (ipykernel)",
   "language": "python",
   "name": "python3"
  },
  "language_info": {
   "codemirror_mode": {
    "name": "ipython",
    "version": 3
   },
   "file_extension": ".py",
   "mimetype": "text/x-python",
   "name": "python",
   "nbconvert_exporter": "python",
   "pygments_lexer": "ipython3",
   "version": "3.11.4"
  }
 },
 "nbformat": 4,
 "nbformat_minor": 5
}
